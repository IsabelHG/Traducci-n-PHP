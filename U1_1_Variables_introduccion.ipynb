{
 "cells": [
  {
   "cell_type": "markdown",
   "metadata": {
    "id": "mgVp4rNRnt_e"
   },
   "source": [
    "# VARIABLES"
   ]
  },
  {
   "cell_type": "code",
   "execution_count": null,
   "metadata": {
    "id": "vyrr-BgxzYkW"
   },
   "outputs": [],
   "source": [
    "from google.colab import drive\n",
    "drive.mount('/content/drive')"
   ]
  },
  {
   "cell_type": "markdown",
   "metadata": {
    "id": "Dscg4WwXnt_1"
   },
   "source": [
    "#### Nombres de las variables y palabras resevadas"
   ]
  },
  {
   "cell_type": "markdown",
   "metadata": {
    "id": "XKqgtFRcnt_3"
   },
   "source": [
    "Los nombres de las variables por convención tienen nombres descriptivos. Estas variables siempre deben empezar por una letra, por ejemplo, si queremos crear una variable que almacene el nombre de usuario y documento de una persona, tenemos estas dos convenciones:\n",
    "\n",
    "\n",
    "\n",
    "<div id=\"a\" class=\"jumbotron jumbotron-fluid\">\n",
    "  <div class=\"container\">\n",
    "    <h1 class=\"display-4\">1. Formas correctas de designar variables</h1>\n",
    "    <p class=\"lead\">Utilizar nombres descriptivos y en minúsculas. Para nombres compuestos, separar las palabras por guiones bajos. Antes y después del signo =, debe haber uno (1), <b>solo un espacio en blanco</b>.</p>\n",
    "      \t<ul>\n",
    "\t\t<i>nombre_de_usuario = 12<br></i>\n",
    "\t\t<i>nombre_de_usuario = 12<br></i>\n",
    "\t\t<i>nombreDeUsuario = 12<br></i>\n",
    "\t\t<i>nombreUsuario = 12<br></i>\n",
    "\t</ul>\n",
    "      \n",
    "  </div>\n",
    "</div>"
   ]
  },
  {
   "cell_type": "markdown",
   "metadata": {},
   "source": [
    "<div class=\"alert alert-info\" role=\"alert\">\n",
    "<b>VERSIÓN EN PHP</b><br>\n",
    "<p>En PHP las variables se representan con un signo de dólar ($) seguido por el nombre de la variable. El nombre de la variable es sensible a minúsculas y mayúsculas.</p>\n",
    "<p>Los nombres de variables siguen las mismas reglas que otras etiquetas en PHP. Un nombre de variable válido tiene que empezar con una letra o una barra baja, seguida de cualquier número de letras, números y barras bajas.</p>\n",
    "</div>"
   ]
  },
  {
   "cell_type": "code",
   "execution_count": null,
   "metadata": {},
   "outputs": [],
   "source": [
    "<?php\n",
    "$nombre_de_usuario = 12;\n",
    "$nombre_de_usuario = 12;\n",
    "$nombreDeUsuario = 12;\n",
    "$nombreUsuario = 12;\n",
    "?>"
   ]
  },
  {
   "cell_type": "markdown",
   "metadata": {},
   "source": [
    "<div id=\"a\" class=\"jumbotron jumbotron-fluid\">\n",
    "  <div class=\"container\">\n",
    "    <h1 class=\"display-4\">2. Utilizar nombres descriptivos y en mayúsculas, separando palabras por guiones bajos. Ejemplo:</h1>\n",
    "    <p class=\"lead\"></p>\n",
    "      <p>MI_CONSTANTE = 12</p>\n",
    "  </div>\n",
    "</div>\n",
    "\n",
    "Para definir los lados de un triangulo pueden ser\n",
    "\n",
    ">cateto_uno\n",
    "\n",
    ">catetoDos\n",
    "\n",
    "\n",
    "\n"
   ]
  },
  {
   "cell_type": "markdown",
   "metadata": {},
   "source": [
    "<div class=\"alert alert-info\" role=\"alert\">\n",
    "<b>VERSIÓN EN PHP</b>\n",
    "</div>"
   ]
  },
  {
   "cell_type": "code",
   "execution_count": null,
   "metadata": {},
   "outputs": [],
   "source": [
    "<?php\n",
    "$cateto_uno = x;\n",
    "$catetoDos = x;\n",
    "?>"
   ]
  },
  {
   "cell_type": "markdown",
   "metadata": {},
   "source": [
    "<div class=\"alert alert-light\" role=\"alert\">\n",
    "</div>"
   ]
  },
  {
   "cell_type": "markdown",
   "metadata": {
    "id": "DzruFsDQnt_6"
   },
   "source": [
    "# PALABRAS RESERVADAS\n"
   ]
  },
  {
   "cell_type": "markdown",
   "metadata": {
    "id": "_xITeYVYnt_7"
   },
   "source": [
    "Como ya sabes, en el sistema existen palabras reservadas, estas palabras no se pueden utilizar como nombres de variables... bueno, sí se puede, pero es una práctica horrible, hacerlo."
   ]
  },
  {
   "cell_type": "code",
   "execution_count": null,
   "metadata": {
    "id": "cMioJdbtnt_8"
   },
   "outputs": [],
   "source": [
    "palabras_reservadas=[\n",
    "and\n",
    "continue\n",
    "else \n",
    "for \n",
    "import \n",
    "not \n",
    "raise\n",
    "assert \n",
    "def \n",
    "except \n",
    "from \n",
    "in \n",
    "or \n",
    "return\n",
    "break \n",
    "del \n",
    "exec \n",
    "global \n",
    "is \n",
    "pass \n",
    "try\n",
    "class \n",
    "elif \n",
    "finally \n",
    "if \n",
    "lambda \n",
    "print ]"
   ]
  },
  {
   "cell_type": "markdown",
   "metadata": {},
   "source": [
    "<div class=\"alert alert-info\" role=\"alert\">\n",
    "<b>VERSIÓN EN PHP</b><br>\n",
    "Palabras Reservadas\n",
    "</div>"
   ]
  },
  {
   "cell_type": "code",
   "execution_count": null,
   "metadata": {},
   "outputs": [],
   "source": [
    "__halt_compiler()\n",
    "abstract\n",
    "and\n",
    "array()\n",
    "as\n",
    "break\n",
    "callable\n",
    "case\n",
    "catch\n",
    "class\n",
    "clone\n",
    "const\n",
    "continue\n",
    "declare\n",
    "default\n",
    "die()\n",
    "do\n",
    "echo\n",
    "else\n",
    "elseif\n",
    "empty()\n",
    "enddeclare\n",
    "endfor\n",
    "endforeach\n",
    "endif\n",
    "endswitch\n",
    "endwhile\n",
    "eval()\n",
    "exit()\n",
    "extends\n",
    "final\n",
    "finally\n",
    "fn (a partir de PHP 7.4)\n",
    "for\n",
    "foreach\n",
    "function\n",
    "global\n",
    "goto\n",
    "if\n",
    "implements\n",
    "include\n",
    "include_once\n",
    "instanceof\n",
    "insteadof\n",
    "interface\n",
    "isset()\n",
    "list()\n",
    "match (a partir de PHP 8.0)\n",
    "namespace\n",
    "new\n",
    "or\n",
    "print\n",
    "private\n",
    "protected\n",
    "public\n",
    "require\n",
    "require_once\n",
    "return\n",
    "static\n",
    "switch\n",
    "throw\n",
    "trait\n",
    "try\n",
    "unset()\n",
    "use\n",
    "var\n",
    "while\n",
    "xor\n",
    "yield\n",
    "yield from"
   ]
  },
  {
   "cell_type": "markdown",
   "metadata": {},
   "source": [
    "<div class=\"alert alert-light\" role=\"alert\">\n",
    "</div>"
   ]
  },
  {
   "cell_type": "markdown",
   "metadata": {
    "id": "MG2xt98ent_-"
   },
   "source": [
    "# Intentaremos utilizar una palabra reservada como variable"
   ]
  },
  {
   "cell_type": "code",
   "execution_count": null,
   "metadata": {
    "id": "WJsyEacRnt__",
    "outputId": "429eae05-1fa8-441f-c4ff-ddc446ef5e94"
   },
   "outputs": [],
   "source": [
    "print=hola mundo"
   ]
  },
  {
   "cell_type": "markdown",
   "metadata": {},
   "source": [
    "<div class=\"alert alert-info\" role=\"alert\">\n",
    "    <b>VERSIÓN EN PHP</b>\n",
    "</div>"
   ]
  },
  {
   "cell_type": "code",
   "execution_count": null,
   "metadata": {},
   "outputs": [],
   "source": [
    "<?php\n",
    "$echo = \"hola mundo\";\n",
    "?>"
   ]
  },
  {
   "cell_type": "markdown",
   "metadata": {},
   "source": [
    "<div class=\"alert alert-light\" role=\"alert\">\n",
    "</div>"
   ]
  },
  {
   "cell_type": "markdown",
   "metadata": {
    "id": "iCblqlPknuAC"
   },
   "source": [
    "# Intenta utilizar otra palabra reservada como variable"
   ]
  },
  {
   "cell_type": "code",
   "execution_count": null,
   "metadata": {
    "id": "26lfsOe_nuAD"
   },
   "outputs": [],
   "source": []
  },
  {
   "cell_type": "markdown",
   "metadata": {},
   "source": [
    "<div class=\"alert alert-light\" role=\"alert\">\n",
    "</div>"
   ]
  },
  {
   "cell_type": "markdown",
   "metadata": {
    "id": "KLxxdj1VnuAE"
   },
   "source": [
    "# Las variables tienen ciertas reglas\n",
    "\n",
    "1. No adminten que se inicien con números.\n",
    "2. No admite que se inicien con símbolos.\n",
    "3. Para efectos de Python, utilizaremos variables separadas por guiones bajos (**_**)."
   ]
  },
  {
   "cell_type": "markdown",
   "metadata": {},
   "source": [
    "<div class=\"alert alert-info\" role=\"alert\">\n",
    "    <b>VERSIÓN EN PHP</b><br>\n",
    "    <p>Reglas de las Variables en PHP</p><br>\n",
    "    <b>1.</b> comience con el signo de dólar ($)<br>\n",
    " <b>2.</b> La primera letra del nombre de la variable proviene de a-z, A-z, (_) <br>\n",
    " <b>3.</b> Las siguientes letras del nombre de la variable provienen de\n",
    "    a-z, A-Z, 0-9, (_)<br>\n",
    " <b>4.</b> sin espacio, sin sintaxis\n",
    "</div>"
   ]
  },
  {
   "cell_type": "markdown",
   "metadata": {},
   "source": [
    "<div class=\"alert alert-light\" role=\"alert\">\n",
    "</div>"
   ]
  },
  {
   "cell_type": "markdown",
   "metadata": {
    "id": "79ua-H2CnuAG"
   },
   "source": [
    "# TIPOS DE DATOS"
   ]
  },
  {
   "cell_type": "markdown",
   "metadata": {
    "id": "11N6wpETnuAG"
   },
   "source": [
    "<div id=\"a\" class=\"jumbotron jumbotron-fluid\">\n",
    "  <div class=\"container\">\n",
    "    <h1 class=\"display-4\">3. Ahora vamos a utilizar a Python para entender los tipos de datos</h1>\n",
    "    <p class=\"lead\"></p>\n",
    "      <p>MI_CONSTANTE = 12</p>\n",
    "        \n",
    "        \n",
    "  </div>\n",
    "</div>"
   ]
  },
  {
   "cell_type": "markdown",
   "metadata": {
    "id": "_msL0nwUnuAH"
   },
   "source": [
    "| Tipo      | Clase           | Notas                                                   | Ejemplo                         |\n",
    "|-----------|-----------------|---------------------------------------------------------|---------------------------------|\n",
    "| str       | Cadena          | Inmutable                                               | 'Cadena'                        |\n",
    "| unicode   | Cadena          | Versión Unicode de str                                  | u'Cadena'                       |\n",
    "| list      | Secuencia       | Mutable, puede contener objetos de diversos tipos       | [4.0, 'Cadena', True]           |\n",
    "| tuple     | Secuencia       | Inmutable, puede contener objetos de diversos tipos     | (4.0, 'Cadena', True)           |\n",
    "| set       | Conjunto        | Mutable, sin orden, no contiene duplicados              | set([4.0, 'Cadena', True])      |\n",
    "| frozenset | Conjunto        | Inmutable, sin orden, no contiene duplicados            | frozenset([4.0,'Cadena', True]) |\n",
    "| dict      | Mapping         | Grupo de pares clave:valor                              | {'key1': 1.0, 'key2': False}    |\n",
    "| int       | Número Entero   | Precisión fija, convertido en long en caso de overflow. | 42                              |\n",
    "| long      | Número entero   | Precisión arbitraria                                    | 42L ó456966786151987643L        |\n",
    "| float     | Número decimal  | Coma flotante de doble precisión                        | 3.1415927                       |\n",
    "| complex   | Número complejo | Parte real y parte imaginaria j.                        | (4.5 + 3j)                      |\n",
    "| Bool      | Booleano        | Valor booleano verdadero o falso                        | True o False                    |\n",
    "\n",
    "*Mutable: si su contenido (o dicho valor) puede cambiarse en tiempo de ejecución.\n",
    "\n",
    "*Inmutable: si su contenido (o dicho valor) no puede cambiarse en tiempo de ejecución."
   ]
  },
  {
   "cell_type": "markdown",
   "metadata": {
    "id": "iY0UVghqVdMd"
   },
   "source": [
    "**Aunque existen muchos tipos de datos, los más comunes son:**\n",
    "\n",
    "* Booleanos (son datos que son verdaderos o falsos).\n",
    "* Int (números enteros).\n",
    "* Float (números decimales).\n",
    "* String (cadenas de caracteres).\n",
    "* Array (lista de datos).\n",
    "\n",
    "\n",
    "\n",
    "\n"
   ]
  },
  {
   "cell_type": "markdown",
   "metadata": {},
   "source": [
    "<div class=\"alert alert-info\" role=\"alert\">\n",
    "<b>VERSIÓN EN PHP</b><br>\n",
    "    <p>Tipos de datos más comunes:</p>\n",
    "    <ul>\n",
    "<li>Integer (entero): números enteros.</li>\n",
    "<li>Double (reales): números con decimales.</li>\n",
    "<li>String: cadenas de texto.</li>\n",
    "<li>Boolean: valor lógico que solo admite verdadero o falso.</li>\n",
    "<li>Array: conjunto de valores.</li>\n",
    "<li>Null: valor que indica ausencia de valor.</li>\n",
    "    </ul>\n",
    "</div>"
   ]
  },
  {
   "cell_type": "markdown",
   "metadata": {},
   "source": [
    "<div class=\"alert alert-light\" role=\"alert\">\n",
    "</div>"
   ]
  },
  {
   "cell_type": "code",
   "execution_count": null,
   "metadata": {
    "colab": {
     "base_uri": "https://localhost:8080/"
    },
    "id": "JAccEV08Z2RY",
    "outputId": "2c2581ff-6c8a-42ed-e453-754ac5dd6df6"
   },
   "outputs": [],
   "source": [
    "#Ejemplo de Booleanos\n",
    "\n",
    "verdadero = True #Verdadero\n",
    "print(verdadero)"
   ]
  },
  {
   "cell_type": "code",
   "execution_count": null,
   "metadata": {
    "colab": {
     "base_uri": "https://localhost:8080/"
    },
    "id": "6QTJcxM-aHPM",
    "outputId": "d4c770f0-a3f8-4828-e48a-af63e53c2318"
   },
   "outputs": [],
   "source": [
    "verdadero = False #falso\n",
    "print(verdadero)"
   ]
  },
  {
   "cell_type": "code",
   "execution_count": null,
   "metadata": {
    "colab": {
     "base_uri": "https://localhost:8080/"
    },
    "id": "wvTNpiIxaUm_",
    "outputId": "73c02672-0ff8-465f-c0d9-e2bbcc527353"
   },
   "outputs": [],
   "source": [
    "falso = False\n",
    "\n",
    "if( falso == verdadero):{\n",
    "  print(Falso):\n",
    "  print(verdadero)\n",
    "}"
   ]
  },
  {
   "cell_type": "markdown",
   "metadata": {},
   "source": [
    "<div class=\"alert alert-info\" role=\"alert\">\n",
    "<b>VERSIÓN EN PHP</b>\n",
    "</div>"
   ]
  },
  {
   "cell_type": "code",
   "execution_count": null,
   "metadata": {},
   "outputs": [],
   "source": [
    "<?php\n",
    "//Ejemplo de Booleanos\n",
    "\n",
    "$verdadero = True; //Verdadero\n",
    "echo $verdadero;\n",
    "?>"
   ]
  },
  {
   "cell_type": "code",
   "execution_count": null,
   "metadata": {},
   "outputs": [],
   "source": [
    "<?php\n",
    "$verdadero = False; //falso\n",
    "echo $verdadero;\n",
    "$falso = False;\n",
    "\n",
    "if ($falso == $verdadero) {\n",
    "  echo $falso;\n",
    "  echo $verdadero;\n",
    "}\n",
    "?>"
   ]
  },
  {
   "cell_type": "markdown",
   "metadata": {},
   "source": [
    "<div class=\"alert alert-light\" role=\"alert\">\n",
    "</div>"
   ]
  },
  {
   "cell_type": "markdown",
   "metadata": {
    "id": "5c2HeDBcbiwZ"
   },
   "source": [
    "Antes de continuar con los otros tipos de datos, intentaremos el siguiente ejercicio:"
   ]
  },
  {
   "cell_type": "markdown",
   "metadata": {
    "id": "yI0f_ihWnuAK"
   },
   "source": [
    "**Interamos utilizar palabras resevadas como variable**\n",
    "\n",
    "\n"
   ]
  },
  {
   "cell_type": "code",
   "execution_count": null,
   "metadata": {
    "id": "uUs7S1--UbNz"
   },
   "outputs": [],
   "source": []
  },
  {
   "cell_type": "code",
   "execution_count": null,
   "metadata": {
    "colab": {
     "base_uri": "https://localhost:8080/",
     "height": 130
    },
    "id": "PeBATRRXnuAL",
    "outputId": "5299ff52-c10c-4711-cc2f-3fcf048ac3df"
   },
   "outputs": [],
   "source": [
    "#utilizaremos elif\n",
    "print()"
   ]
  },
  {
   "cell_type": "markdown",
   "metadata": {
    "id": "duAk97l1ofm1"
   },
   "source": [
    "**Intentaremos declarar una variable string (cadena de caracteres) y asignarle un valor:**"
   ]
  },
  {
   "cell_type": "code",
   "execution_count": null,
   "metadata": {
    "colab": {
     "base_uri": "https://localhost:8080/",
     "height": 130
    },
    "id": "ZGv9NEdNpRKe",
    "outputId": "8c4f70de-e45a-44f1-a984-7111a3405a9a"
   },
   "outputs": [],
   "source": [
    "#elif = \"hola mundo\"\n",
    "elif = \"hola mundo\""
   ]
  },
  {
   "cell_type": "markdown",
   "metadata": {
    "id": "Y7IIK1J7qUyE"
   },
   "source": [
    "**Ahora intenta 3 ejercicios y observa los resultados.**\n"
   ]
  },
  {
   "cell_type": "markdown",
   "metadata": {
    "id": "8jQFtdBFqgtx"
   },
   "source": [
    "Intenta empezar la variable con algún símbolo.\n",
    "\n",
    "1.   Empieza la variable con algún símbolo.\n",
    "2.   Intenta iniciar la variable con un número.\n",
    "3.   Intente iniciar la variable con mayúsculas.\n",
    "\n"
   ]
  },
  {
   "cell_type": "code",
   "execution_count": null,
   "metadata": {
    "id": "7BHGFptTqe0S"
   },
   "outputs": [],
   "source": []
  },
  {
   "cell_type": "code",
   "execution_count": null,
   "metadata": {
    "id": "oFg3oh9ersLC"
   },
   "outputs": [],
   "source": []
  },
  {
   "cell_type": "code",
   "execution_count": null,
   "metadata": {
    "id": "eXtQdh-6rsYQ"
   },
   "outputs": [],
   "source": []
  },
  {
   "cell_type": "markdown",
   "metadata": {
    "id": "lLdeZ2YZrsp_"
   },
   "source": [
    "**Otras de estas palabras reservadas puede ser (type), para conocer los tipos de datos.**"
   ]
  },
  {
   "cell_type": "code",
   "execution_count": null,
   "metadata": {
    "colab": {
     "base_uri": "https://localhost:8080/"
    },
    "id": "kYwErPKxtCqv",
    "outputId": "df34486f-c301-441c-dbb7-adab8f10f26b"
   },
   "outputs": [],
   "source": [
    "type(\"Hola, mundo\")"
   ]
  },
  {
   "cell_type": "code",
   "execution_count": null,
   "metadata": {
    "colab": {
     "base_uri": "https://localhost:8080/"
    },
    "id": "9vv0IOAStC61",
    "outputId": "a5dcf0a6-de14-4816-f6c5-d3d5d75219cd"
   },
   "outputs": [],
   "source": [
    "type(4)"
   ]
  },
  {
   "cell_type": "code",
   "execution_count": null,
   "metadata": {
    "colab": {
     "base_uri": "https://localhost:8080/"
    },
    "id": "pi4V9YJ3tDJu",
    "outputId": "a58d96d8-8abe-4fe0-dcd8-b24af47cf0fe"
   },
   "outputs": [],
   "source": [
    "type(3.4)"
   ]
  },
  {
   "cell_type": "markdown",
   "metadata": {},
   "source": [
    "<div class=\"alert alert-info\" role=\"alert\">\n",
    "    <b>VERSIÓN EN PHP</b><br>\n",
    "    Para conocer los tipos de datos en PHP utilizamos <b>gettype</b>\n",
    "</div>"
   ]
  },
  {
   "cell_type": "code",
   "execution_count": null,
   "metadata": {},
   "outputs": [],
   "source": [
    "<?php\n",
    "echo gettype(\"Hola, mundo\");\n",
    "echo gettype(4);\n",
    "echo gettype(3.4);\n",
    "?>"
   ]
  },
  {
   "cell_type": "markdown",
   "metadata": {},
   "source": [
    "<div class=\"alert alert-light\" role=\"alert\">\n",
    "</div>"
   ]
  },
  {
   "cell_type": "markdown",
   "metadata": {
    "id": "QMj9F1foti8f"
   },
   "source": [
    "**Asignaremos un valor a una variable y obtendremos el tipo de dato de la variable:**"
   ]
  },
  {
   "cell_type": "code",
   "execution_count": null,
   "metadata": {
    "colab": {
     "base_uri": "https://localhost:8080/"
    },
    "id": "DvRbmZGjtpAP",
    "outputId": "9a4dc847-1a9b-4941-c3ff-e185ae7d198a"
   },
   "outputs": [],
   "source": [
    "#Ejemplo\n",
    "mes_de_nacimiento = (\"septiembre\")\n",
    "#Recuerda que como es una variable de tipo string debe colocarse entre comillas\n",
    "type(mes_de_nacimiento)\n"
   ]
  },
  {
   "cell_type": "markdown",
   "metadata": {},
   "source": [
    "<div class=\"alert alert-info\" role=\"alert\">\n",
    "<b>VERSIÓN EN PHP</b>\n",
    "</div>"
   ]
  },
  {
   "cell_type": "code",
   "execution_count": null,
   "metadata": {},
   "outputs": [],
   "source": [
    "<?php\n",
    "//Ejemplo\n",
    "$mes_de_nacimiento = \"septiembre\";\n",
    "//Recuerda que como es una variable tipo string debe colocarse entre comillas\n",
    "echo gettype($mes_de_nacimiento);\n",
    "?>"
   ]
  },
  {
   "cell_type": "markdown",
   "metadata": {},
   "source": [
    "<div class=\"alert alert-light\" role=\"alert\">\n",
    "</div>"
   ]
  },
  {
   "cell_type": "markdown",
   "metadata": {
    "id": "kNIs2oI4zOn6"
   },
   "source": [
    "Ahora intentaremos asignar un número a una variable y utilizar la palabra reservada **type** para verificar su tipo."
   ]
  },
  {
   "cell_type": "code",
   "execution_count": null,
   "metadata": {
    "id": "eHBK5lubuBue"
   },
   "outputs": [],
   "source": []
  },
  {
   "cell_type": "markdown",
   "metadata": {},
   "source": [
    "<div class=\"alert alert-light\" role=\"alert\">\n",
    "</div>"
   ]
  },
  {
   "cell_type": "markdown",
   "metadata": {
    "id": "tMdHVSE80y_J"
   },
   "source": [
    "Ahora convertiremos la variable de tipo **entero(int) en flotante(float)**\n",
    "\n",
    "Sigue el siguiente ejemplo:\n",
    "float(variable)"
   ]
  },
  {
   "cell_type": "code",
   "execution_count": null,
   "metadata": {
    "colab": {
     "base_uri": "https://localhost:8080/"
    },
    "id": "wO13kadB1Eey",
    "outputId": "d64afb4e-2d8d-4ca7-8fe7-9f81cf011403"
   },
   "outputs": [],
   "source": [
    "a = 5\n",
    "print(a)"
   ]
  },
  {
   "cell_type": "markdown",
   "metadata": {
    "id": "4EPihCTP1sxK"
   },
   "source": [
    "## Ahora le sumaras 0.35 a la variable:\n",
    "**Ejemplo:**\n",
    "\n",
    "variable = variable + 0.3\n",
    "\n",
    "o puedes utilizar\n",
    "\n",
    "variable +=0.3"
   ]
  },
  {
   "cell_type": "code",
   "execution_count": null,
   "metadata": {
    "colab": {
     "base_uri": "https://localhost:8080/"
    },
    "id": "SdhsCQQJ1rzx",
    "outputId": "3599f6d6-0a60-4d08-dbc9-0f3f2c01d6d2"
   },
   "outputs": [],
   "source": [
    "variable =3\n",
    "variable +=0.3\n",
    "type(variable)"
   ]
  },
  {
   "cell_type": "code",
   "execution_count": null,
   "metadata": {
    "id": "9pAwn6aa2nLu"
   },
   "outputs": [],
   "source": []
  },
  {
   "cell_type": "markdown",
   "metadata": {},
   "source": [
    "<div class=\"alert alert-info\" role=\"alert\">\n",
    "<b>VERSIÓN EN PHP</b><br>\n",
    "¿Cómo realizamos este proceso de conversión en PHP?\n",
    "</div>"
   ]
  },
  {
   "cell_type": "code",
   "execution_count": null,
   "metadata": {},
   "outputs": [],
   "source": [
    "<?php\n",
    "$variable = 3;\n",
    "$variable = $variable + 0.3;\n",
    "echo gettype($variable);\n",
    "?>"
   ]
  },
  {
   "cell_type": "markdown",
   "metadata": {},
   "source": [
    "<div class=\"alert alert-light\" role=\"alert\">\n",
    "</div>"
   ]
  },
  {
   "cell_type": "markdown",
   "metadata": {
    "id": "-3AdAhrn1jAa"
   },
   "source": [
    "Ahora convertirás una variable **fotante(float) en entera(int)**"
   ]
  },
  {
   "cell_type": "code",
   "execution_count": null,
   "metadata": {
    "colab": {
     "base_uri": "https://localhost:8080/"
    },
    "id": "vEcE8Hji1R5V",
    "outputId": "75607ef9-ff68-4df3-c924-d933535df39a"
   },
   "outputs": [],
   "source": []
  },
  {
   "cell_type": "code",
   "execution_count": null,
   "metadata": {
    "id": "oElPZE414YHr"
   },
   "outputs": [],
   "source": []
  },
  {
   "cell_type": "code",
   "execution_count": null,
   "metadata": {
    "id": "wwv9rKk75mJR"
   },
   "outputs": [],
   "source": []
  },
  {
   "cell_type": "markdown",
   "metadata": {
    "id": "yuB0ZsSw4jpr"
   },
   "source": [
    "<div id=\"a\" class=\"jumbotron jumbotron-fluid\">\n",
    "  <div class=\"container\">\n",
    "    <h1 class=\"display-4\">4. Exploraremos la operación entre variables:</h1>\n",
    "    <p class=\"lead\"></p>\n",
    "      <p>\n",
    "<h4>Ejercicio</h4>\n",
    "<p>Crea dos variables, una que contenga 'Hola' y otra que contenga 'Mundo', luego procede a imprimirlas juntas.</p>\n",
    "\n",
    "<p><b>Clave</b>: Recuerda que, además de sumar datos, puedes sumar palabras, y que también puedes dejar espacios entre los <i>String</i>.</p>\n",
    "  </div>\n",
    "</div>"
   ]
  },
  {
   "cell_type": "code",
   "execution_count": null,
   "metadata": {
    "colab": {
     "base_uri": "https://localhost:8080/"
    },
    "id": "fDfKHhDf1TuB",
    "outputId": "63797bb3-5e12-454c-b5b1-554194ae7071"
   },
   "outputs": [],
   "source": [
    "variable1 = 'Hola'\n",
    "variable2 = 'Mundo'\n",
    "print (variable1+\" \"+variable2)\n",
    "print (variable1,variable2)"
   ]
  },
  {
   "cell_type": "markdown",
   "metadata": {},
   "source": [
    "<div class=\"alert alert-info\" role=\"alert\">\n",
    "<b>VERSIÓN EN PHP</b><br>\n",
    "    Recuerda que para concatenar variables en PHP debemos utilizar <b>( . )</b>\n",
    "</div>"
   ]
  },
  {
   "cell_type": "code",
   "execution_count": null,
   "metadata": {},
   "outputs": [],
   "source": [
    "<?php\n",
    "$variable1 = \"Hola\";\n",
    "$variable2 = \"Mundo\";\n",
    "echo $variable1.\" \".$variable2;\n",
    "echo $variable1.\",\".$variable2;\n",
    "?>"
   ]
  },
  {
   "cell_type": "markdown",
   "metadata": {},
   "source": [
    "<div class=\"alert alert-light\" role=\"alert\">\n",
    "</div>"
   ]
  },
  {
   "cell_type": "markdown",
   "metadata": {
    "id": "UjEoiyhr46CT"
   },
   "source": [
    "**Ejercicio**\n",
    "Crearemos 3 variables y las concatenaremos; deben decir algo así: \n",
    "\n",
    "Mi nombre es ***variable_nombre*** y nací el ***varaible_fecha*** por eso tengo la edad de ***edad***.\n",
    "\n"
   ]
  },
  {
   "cell_type": "code",
   "execution_count": null,
   "metadata": {
    "id": "mtwggzIB5jcT"
   },
   "outputs": [],
   "source": []
  },
  {
   "cell_type": "markdown",
   "metadata": {},
   "source": [
    "<div class=\"alert alert-light\" role=\"alert\">\n",
    "</div>"
   ]
  },
  {
   "cell_type": "markdown",
   "metadata": {
    "id": "pVO22LBc54TT"
   },
   "source": [
    "**Cadenas o String**"
   ]
  },
  {
   "cell_type": "code",
   "execution_count": null,
   "metadata": {
    "id": "t7u3PyOs57Tb"
   },
   "outputs": [],
   "source": [
    "'El conflicto ha \"terminado\", ¿o eso parece?'"
   ]
  },
  {
   "cell_type": "markdown",
   "metadata": {
    "id": "zPZa3Bs76zm5"
   },
   "source": [
    "El formato unicode, permite crear cadenas que puedan ser llevadas a los otros formatos:"
   ]
  },
  {
   "cell_type": "code",
   "execution_count": null,
   "metadata": {
    "id": "rp8eXnfh61OT"
   },
   "outputs": [],
   "source": [
    "u'Hola Mundo!'"
   ]
  },
  {
   "cell_type": "markdown",
   "metadata": {},
   "source": [
    "<div class=\"alert alert-light\" role=\"alert\">\n",
    "</div>"
   ]
  },
  {
   "cell_type": "markdown",
   "metadata": {
    "id": "_fEdBuUQ69Qr"
   },
   "source": [
    "Entre los contenidos tenemos el tipo lista, o *array*: este tipo de contenido puede contener múltiples elementos."
   ]
  },
  {
   "cell_type": "code",
   "execution_count": null,
   "metadata": {
    "colab": {
     "base_uri": "https://localhost:8080/"
    },
    "id": "JsJ4iieh67c7",
    "outputId": "fdc561f9-18f8-4e30-d639-b2b8665c6a37"
   },
   "outputs": [],
   "source": [
    "vectorLista = [2,3,4,5]\n",
    "vectorLista"
   ]
  },
  {
   "cell_type": "code",
   "execution_count": null,
   "metadata": {
    "colab": {
     "base_uri": "https://localhost:8080/"
    },
    "id": "GnDh94H67Joi",
    "outputId": "3237a9cb-da72-4393-edec-eb708d2b2f71"
   },
   "outputs": [],
   "source": [
    "Matriz = [[1,2,3],[4,5,6],[7,8,9]]\n",
    "Matriz"
   ]
  },
  {
   "cell_type": "markdown",
   "metadata": {},
   "source": [
    "<div class=\"alert alert-info\" role=\"alert\">\n",
    "<b>VERSIÓN EN PHP</b><br>\n",
    "    En PHP, <b>list</b> y <b>array</b> son diferentes.\n",
    "    <p><b>array()</b> en PHP es en realidad un mapa ordenado. Un mapa es un tipo de datos que asocia valores con claves.</p>\n",
    "    <p><b>list()</b> se utiliza para asignar una lista de variables en una sola operación como si fueran un array.</p><br>\n",
    "    <p>Para visualizar los datos que contiene un array debemos utilizar <code>var_dump()</code> o <code>print_r()</code></p>\n",
    "</div>"
   ]
  },
  {
   "cell_type": "code",
   "execution_count": null,
   "metadata": {},
   "outputs": [],
   "source": [
    "<?php\n",
    "//array()\n",
    "$array1 = array(\"foo\", \"bar\", \"hello\", \"world\");\n",
    "$array2 = array(2,3,4,5);\n",
    "var_dump($array1);\n",
    "print_r($array2);\n",
    "\n",
    "//list()\n",
    "$info = array('café', 'marrón', 'cafeína');\n",
    "list($bebida, $color, $energía) = $info;\n",
    "echo \"El \".$bebida.\" es \".$color.\" y la \".$energía.\" lo hace especial.\";\n",
    "?>"
   ]
  },
  {
   "cell_type": "markdown",
   "metadata": {},
   "source": [
    "<div class=\"alert alert-light\" role=\"alert\">\n",
    "</div>"
   ]
  },
  {
   "cell_type": "markdown",
   "metadata": {
    "id": "aESgco4ORBAb"
   },
   "source": [
    "\n",
    "**Más sobre listas**\n",
    "\n",
    "El tipo de dato lista tiene algunos métodos más. Aquí están todos los métodos de los objetos lista:\n",
    "\n",
    "`list.append(x)`\n",
    "\n",
    "Agrega un ítem al final de la lista. Equivale a *a[len(a):] = [x]*:\n",
    "\n",
    "<div class=\"alert alert-info\" role=\"alert\">\n",
    "    En PHP utilizamos <code>array_push()</code>\n",
    "</div><br>\n",
    "\n",
    "`list.extend(L)`\n",
    "\n",
    "Extiende la lista agregándole todos los ítems de la lista dada. Equivale a *a[len(a):] = L*:\n",
    "\n",
    "<div class=\"alert alert-info\" role=\"alert\">\n",
    "    En PHP utilizamos <code>array_merge()</code>\n",
    "</div><br>\n",
    "\n",
    "`list.insert(i, x)`\n",
    "\n",
    "Inserta un ítem en una posición dada. El primer argumento es el índice del ítem delante del cual se insertará, por lo tanto a*.insert(0, x)* inserta al principio de la lista, y *a.insert(len(a), x)* equivale a *a.append(x)*:\n",
    "\n",
    "<div class=\"alert alert-info\" role=\"alert\">\n",
    "    En PHP utilizamos <code>$array[] = $value;</code>\n",
    "</div><br>\n",
    "\n",
    "`list.remove(x)`\n",
    "\n",
    "Quita el primer ítem de la lista cuyo valor sea *x*. Es un error si no existe tal ítem:\n",
    "\n",
    "<div class=\"alert alert-info\" role=\"alert\">\n",
    "    En PHP utilizamos <code>array_diff()</code>\n",
    "</div><br>\n",
    "\n",
    "`list.pop([i])`\n",
    "\n",
    "Quita el ítem en la posición dada de la lista, y lo devuelve. Si no se especifica un índice, *a.pop()* quita y devuelve el último ítem de la lista. (Los corchetes que encierran a *i* en la firma del método denotan que el parámetro es opcional, no que deberías escribir corchetes en esa posición. Verás esta notación con frecuencia en la Referencia de la Biblioteca de Python):\n",
    "\n",
    "<div class=\"alert alert-info\" role=\"alert\">\n",
    "    En PHP utilizamos  <code>unset()</code> o <code>array_pop()</code>\n",
    "</div><br>\n",
    "\n",
    "`list.clear()`\n",
    "\n",
    "Quita todos los elementos de la lista. Equivalente a del *a[:]*:\n",
    "\n",
    "<div class=\"alert alert-info\" role=\"alert\">\n",
    "    En PHP utilizamos <code>array_splice()</code> o <code>unset()</code>\n",
    "</div><br>\n",
    "\n",
    "`list.index(x)`\n",
    "\n",
    "Devuelve el índice en la lista del primer ítem cuyo valor sea *x*. Es un error si no existe tal ítem:\n",
    "\n",
    "<div class=\"alert alert-info\" role=\"alert\">\n",
    "    En PHP utilizamos <code>array_keys()</code>\n",
    "</div><br>\n",
    "\n",
    "`list.count(x)`\n",
    "\n",
    "Devuelve el número de veces que *x* aparece en la lista:\n",
    "\n",
    "<div class=\"alert alert-info\" role=\"alert\">\n",
    "    En PHP utilizamos <code>array_count_values()</code>\n",
    "</div><br>\n",
    "\n",
    "`list.sort(key=None, reverse=False)`\n",
    "\n",
    "Ordena los ítems de la lista *in situ* (los argumentos pueden ser usados para personalizar el orden de la lista, ve *sorted()* para su explicación):\n",
    "\n",
    "<div class=\"alert alert-info\" role=\"alert\">\n",
    "    En PHP utilizamos <code>sort()</code> o <code>rsort()</code>\n",
    "</div><br>\n",
    "\n",
    "`list.reverse()`\n",
    "\n",
    "Invierte los elementos de la lista *in situ*:\n",
    "\n",
    "<div class=\"alert alert-info\" role=\"alert\">\n",
    "    En PHP utilizamos <code>array_reverse()</code>\n",
    "</div><br>\n",
    "\n",
    "`list.copy()`\n",
    "\n",
    "Devuelve una copia superficial de la lista. Equivalente a *a[:]*:\n",
    "\n",
    "<div class=\"alert alert-info\" role=\"alert\">\n",
    "    En PHP utilizamos <code>getArrayCopy()</code>\n",
    "</div><br>\n"
   ]
  },
  {
   "cell_type": "markdown",
   "metadata": {
    "id": "bhng3fawSvkx"
   },
   "source": [
    "# Ejemplo:"
   ]
  },
  {
   "cell_type": "code",
   "execution_count": null,
   "metadata": {
    "colab": {
     "base_uri": "https://localhost:8080/"
    },
    "id": "g-SxKVVKRxMj",
    "outputId": "2b06e3be-0596-41cf-91ae-703dd3cee866"
   },
   "outputs": [],
   "source": [
    "points = [1, 4, 2, 9, 7, 8, 9, 3, 1, 3, 9, 8]\n",
    "\n",
    "x = points.count(9)\n",
    "print(x)"
   ]
  },
  {
   "cell_type": "markdown",
   "metadata": {},
   "source": [
    "<div class=\"alert alert-info\" role=\"alert\">\n",
    "    <b>VERSIÓN EN PHP</b>\n",
    "</div>"
   ]
  },
  {
   "cell_type": "code",
   "execution_count": null,
   "metadata": {},
   "outputs": [],
   "source": [
    "<?php\n",
    "$points = array(1, 4, 2, 9, 7, 8, 9, 3, 1, 3, 9, 8);\n",
    "\n",
    "$x = array_count_values($points,9);\n",
    "echo $x;\n",
    "?>"
   ]
  },
  {
   "cell_type": "markdown",
   "metadata": {},
   "source": [
    "<div class=\"alert alert-light\" role=\"alert\">\n",
    "</div>"
   ]
  },
  {
   "cell_type": "markdown",
   "metadata": {
    "id": "e7IgOyzyS6jS"
   },
   "source": [
    "# Tuplas\n",
    "Aunque sean similares a las Listas (vectores), la diferencia es que las tuplas son inmutables, no se pueden alterar y se utiliza *()* para crearlas:\n",
    "\n"
   ]
  },
  {
   "cell_type": "code",
   "execution_count": null,
   "metadata": {
    "id": "sQ42XmV2TOqB"
   },
   "outputs": [],
   "source": [
    "tupla=(25, \"Mayo\", 1810)\n",
    "tupla"
   ]
  },
  {
   "cell_type": "markdown",
   "metadata": {
    "id": "9CjN810oTNya"
   },
   "source": [
    "**Set** es un conjunto de datos no ordenados que no se repiten y son mutables:"
   ]
  },
  {
   "cell_type": "code",
   "execution_count": null,
   "metadata": {
    "id": "UR5ZFlK7Ta0S"
   },
   "outputs": [],
   "source": [
    "conjunto = set(['a', 'b', 'c', 'c', 'b', 'a'])"
   ]
  },
  {
   "cell_type": "markdown",
   "metadata": {
    "id": "_2RHYexwTjZh"
   },
   "source": [
    "¿Qué crees que va a pasar si lo ejecutamos?"
   ]
  },
  {
   "cell_type": "code",
   "execution_count": null,
   "metadata": {
    "id": "92pZ1IQCXMBy"
   },
   "outputs": [],
   "source": []
  },
  {
   "cell_type": "code",
   "execution_count": null,
   "metadata": {
    "colab": {
     "base_uri": "https://localhost:8080/"
    },
    "id": "S2yYZYzwTnMx",
    "outputId": "fdd18678-438d-49b5-84ba-4bd6890d6d52"
   },
   "outputs": [],
   "source": [
    "conjunto"
   ]
  },
  {
   "cell_type": "markdown",
   "metadata": {
    "id": "e19iv1QAT7AB"
   },
   "source": [
    "***frozenset* es un conjunto de datos no ordenados que no se repiten y son inmutables:**"
   ]
  },
  {
   "cell_type": "code",
   "execution_count": null,
   "metadata": {
    "id": "UBAG8d_NUAX0"
   },
   "outputs": [],
   "source": [
    "conjuntoDos = frozenset(['a', 'b', 'c', 'c', 'b', 'a'])"
   ]
  },
  {
   "cell_type": "markdown",
   "metadata": {
    "id": "EfaG4ljTUBW0"
   },
   "source": [
    "Diccionarios o *dict*, es una colección de datos con un indice:\n",
    "\n",
    "Ejemplo:"
   ]
  },
  {
   "cell_type": "code",
   "execution_count": null,
   "metadata": {
    "colab": {
     "base_uri": "https://localhost:8080/"
    },
    "id": "DQsA6eLeUGyi",
    "outputId": "6a5ec898-51a3-45ec-a985-ca1bc7d2aa7b"
   },
   "outputs": [],
   "source": [
    "punto = {'x': 2, 'y': 1, 'z': 4}\n",
    "punto"
   ]
  },
  {
   "cell_type": "markdown",
   "metadata": {
    "id": "QLfHnIoYVSat"
   },
   "source": [
    "# 5. FIN."
   ]
  }
 ],
 "metadata": {
  "colab": {
   "collapsed_sections": [],
   "name": "2-Variables.ipynb_V.EP",
   "provenance": [],
   "toc_visible": true
  },
  "kernelspec": {
   "display_name": "Python 3",
   "language": "python",
   "name": "python3"
  },
  "language_info": {
   "codemirror_mode": {
    "name": "ipython",
    "version": 3
   },
   "file_extension": ".py",
   "mimetype": "text/x-python",
   "name": "python",
   "nbconvert_exporter": "python",
   "pygments_lexer": "ipython3",
   "version": "3.8.8"
  }
 },
 "nbformat": 4,
 "nbformat_minor": 1
}
