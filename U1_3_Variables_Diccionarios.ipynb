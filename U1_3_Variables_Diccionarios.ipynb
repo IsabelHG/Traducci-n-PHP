{
 "cells": [
  {
   "cell_type": "markdown",
   "metadata": {},
   "source": [
    "# Diccionarios"
   ]
  },
  {
   "cell_type": "markdown",
   "metadata": {},
   "source": [
    "Definiremos un diccionario, con un solo pokemon:"
   ]
  },
  {
   "cell_type": "code",
   "execution_count": null,
   "metadata": {},
   "outputs": [],
   "source": [
    "pokemondict = {\n",
    "  \"name\": \"Charmander\",\n",
    "  \"type\": \"Fire\",\n",
    "  \"number\": 4\n",
    "}"
   ]
  },
  {
   "cell_type": "markdown",
   "metadata": {},
   "source": [
    "<div class=\"alert alert-info\" role=\"alert\">\n",
    "<b>VERSIÓN EN PHP</b>\n",
    "</div>"
   ]
  },
  {
   "cell_type": "code",
   "execution_count": null,
   "metadata": {},
   "outputs": [],
   "source": [
    "<?php\n",
    "$pokemondict = array(\n",
    "  \"name\" => \"Charmander\",\n",
    "  \"type\" => \"Fire\",\n",
    "  \"number\" => 4\n",
    ");\n",
    "?>"
   ]
  },
  {
   "cell_type": "markdown",
   "metadata": {},
   "source": [
    "<div class=\"alert alert-light\" role=\"alert\">\n",
    "</div>"
   ]
  },
  {
   "cell_type": "markdown",
   "metadata": {},
   "source": [
    "Ahora, utilizando una de sus Keys, vamos a visualizar uno de sus contenidos:"
   ]
  },
  {
   "cell_type": "code",
   "execution_count": null,
   "metadata": {},
   "outputs": [],
   "source": [
    "x = pokemondict[\"type\"]\n",
    "print(x)"
   ]
  },
  {
   "cell_type": "code",
   "execution_count": null,
   "metadata": {},
   "outputs": [],
   "source": [
    "x = pokemondict.get(\"type\")\n",
    "print(x)"
   ]
  },
  {
   "cell_type": "code",
   "execution_count": null,
   "metadata": {},
   "outputs": [],
   "source": [
    "x = pokemondict.keys()\n",
    "print(x)"
   ]
  },
  {
   "cell_type": "markdown",
   "metadata": {},
   "source": [
    "<div class=\"alert alert-info\" role=\"alert\">\n",
    "<b>VERSIÓN EN PHP</b>\n",
    "</div>"
   ]
  },
  {
   "cell_type": "code",
   "execution_count": null,
   "metadata": {},
   "outputs": [],
   "source": [
    "<?php\n",
    "$x = pokemondict[\"type\"];\n",
    "echo $x;\n",
    "\n",
    "$x = array_keys($pokemondict);\n",
    "print_r($x);\n",
    "?>"
   ]
  },
  {
   "cell_type": "markdown",
   "metadata": {},
   "source": [
    "<div class=\"alert alert-light\" role=\"alert\">\n",
    "</div>"
   ]
  },
  {
   "cell_type": "markdown",
   "metadata": {},
   "source": [
    "Ahora, vamos a cambiar el tipo de pokemon que es charmander"
   ]
  },
  {
   "cell_type": "code",
   "execution_count": null,
   "metadata": {},
   "outputs": [],
   "source": [
    "x = pokemondict\n",
    "print(x)\n",
    "pokemondict[\"\"]"
   ]
  },
  {
   "cell_type": "markdown",
   "metadata": {},
   "source": [
    "<div class=\"alert alert-info\" role=\"alert\">\n",
    "<b>VERSIÓN EN PHP</b>\n",
    "</div>"
   ]
  },
  {
   "cell_type": "code",
   "execution_count": null,
   "metadata": {},
   "outputs": [],
   "source": [
    "<?php\n",
    "$x = $pokemondict;\n",
    "print_r($x);\n",
    "$x[\"type\"] = \"Volador\";\n",
    "print_r($x);\n",
    "?>"
   ]
  },
  {
   "cell_type": "markdown",
   "metadata": {},
   "source": [
    "<div class=\"alert alert-light\" role=\"alert\">\n",
    "</div>"
   ]
  },
  {
   "cell_type": "code",
   "execution_count": null,
   "metadata": {},
   "outputs": [],
   "source": [
    "pokemondict = {\n",
    "  \"name\": \"Charmander\",\n",
    "  \"type\": \"Fire\",\n",
    "  \"number\": 4\n",
    "}\n",
    "x = pokemondict.keys()\n",
    "\n",
    "print(x) #before the change\n",
    "\n",
    "pokemondict[\"evolucion\"] = 1\n",
    "\n",
    "print(x) #after the change"
   ]
  },
  {
   "cell_type": "markdown",
   "metadata": {},
   "source": [
    "<div class=\"alert alert-info\" role=\"alert\">\n",
    "<b>VERSIÓN EN PHP</b>\n",
    "</div>"
   ]
  },
  {
   "cell_type": "code",
   "execution_count": null,
   "metadata": {},
   "outputs": [],
   "source": [
    "<?php\n",
    "$pokemondict = array(\n",
    "  \"name\" => \"Charmander\",\n",
    "  \"type\" => \"Fire\",\n",
    "  \"number\" => 4\n",
    ");\n",
    "\n",
    "$x = array_keys($pokemondict);\n",
    " \n",
    "print_r($x); #before the change\n",
    " \n",
    "$pokemondict[\"evolucion\"] = 1;\n",
    " \n",
    "$z = array_keys($pokemondict);\n",
    " \n",
    "print_r($z); #after the change\n",
    "?>"
   ]
  },
  {
   "cell_type": "markdown",
   "metadata": {},
   "source": [
    "<div class=\"alert alert-light\" role=\"alert\">\n",
    "</div>"
   ]
  },
  {
   "cell_type": "markdown",
   "metadata": {},
   "source": [
    "<h2>Biografía</h2>\n",
    "<ul>\n",
    "<li><a href=\"https://www.w3schools.com/python/python_dictionaries_access.asp\" target=\"_blank\">https://www.w3schools.com/python/python_dictionaries_access.asp</a>\n",
    "    </li>\n",
    "</ul>\n",
    "\n"
   ]
  }
 ],
 "metadata": {
  "kernelspec": {
   "display_name": "Python 3",
   "language": "python",
   "name": "python3"
  },
  "language_info": {
   "codemirror_mode": {
    "name": "ipython",
    "version": 3
   },
   "file_extension": ".py",
   "mimetype": "text/x-python",
   "name": "python",
   "nbconvert_exporter": "python",
   "pygments_lexer": "ipython3",
   "version": "3.8.8"
  }
 },
 "nbformat": 4,
 "nbformat_minor": 4
}
